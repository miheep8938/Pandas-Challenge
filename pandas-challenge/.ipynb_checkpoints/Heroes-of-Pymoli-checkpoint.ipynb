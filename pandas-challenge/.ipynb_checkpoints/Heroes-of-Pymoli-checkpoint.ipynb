{
 "cells": [
  {
   "cell_type": "markdown",
   "metadata": {},
   "source": [
    "## Heroes of Pymoli"
   ]
  },
  {
   "cell_type": "code",
   "execution_count": 57,
   "metadata": {},
   "outputs": [],
   "source": [
    "# Dependencies and Setup\n",
    "import pandas as pd\n",
    "\n",
    "# Raw data file\n",
    "file_to_load = \"Resources/purchase_data.csv\"\n",
    "\n",
    "# Read purchasing file and store into pandas data frame\n",
    "purchase_data_df = pd.read_csv(file_to_load)"
   ]
  },
  {
   "cell_type": "markdown",
   "metadata": {},
   "source": [
    "## Player Count"
   ]
  },
  {
   "cell_type": "code",
   "execution_count": 58,
   "metadata": {},
   "outputs": [
    {
     "data": {
      "text/html": [
       "<div>\n",
       "<style scoped>\n",
       "    .dataframe tbody tr th:only-of-type {\n",
       "        vertical-align: middle;\n",
       "    }\n",
       "\n",
       "    .dataframe tbody tr th {\n",
       "        vertical-align: top;\n",
       "    }\n",
       "\n",
       "    .dataframe thead th {\n",
       "        text-align: right;\n",
       "    }\n",
       "</style>\n",
       "<table border=\"1\" class=\"dataframe\">\n",
       "  <thead>\n",
       "    <tr style=\"text-align: right;\">\n",
       "      <th></th>\n",
       "      <th>Total Players</th>\n",
       "    </tr>\n",
       "  </thead>\n",
       "  <tbody>\n",
       "    <tr>\n",
       "      <th>0</th>\n",
       "      <td>576</td>\n",
       "    </tr>\n",
       "  </tbody>\n",
       "</table>\n",
       "</div>"
      ],
      "text/plain": [
       "   Total Players\n",
       "0            576"
      ]
     },
     "execution_count": 58,
     "metadata": {},
     "output_type": "execute_result"
    }
   ],
   "source": [
    "# Count the SN with unique names \n",
    "player_count = purchase_data_df[\"SN\"].nunique()\n",
    "\n",
    "# Create a DataFrame with the total players\n",
    "total_player_df = pd.DataFrame({\"Total Players\":[player_count]})\n",
    "total_player_df"
   ]
  },
  {
   "cell_type": "markdown",
   "metadata": {},
   "source": [
    "## Purchasing Analysis (Total)"
   ]
  },
  {
   "cell_type": "code",
   "execution_count": 59,
   "metadata": {},
   "outputs": [
    {
     "data": {
      "text/html": [
       "<div>\n",
       "<style scoped>\n",
       "    .dataframe tbody tr th:only-of-type {\n",
       "        vertical-align: middle;\n",
       "    }\n",
       "\n",
       "    .dataframe tbody tr th {\n",
       "        vertical-align: top;\n",
       "    }\n",
       "\n",
       "    .dataframe thead th {\n",
       "        text-align: right;\n",
       "    }\n",
       "</style>\n",
       "<table border=\"1\" class=\"dataframe\">\n",
       "  <thead>\n",
       "    <tr style=\"text-align: right;\">\n",
       "      <th></th>\n",
       "      <th>Number of Unique Items</th>\n",
       "      <th>Average Price</th>\n",
       "      <th>Number of Purchases</th>\n",
       "      <th>Total Revenue</th>\n",
       "    </tr>\n",
       "  </thead>\n",
       "  <tbody>\n",
       "    <tr>\n",
       "      <th>0</th>\n",
       "      <td>179</td>\n",
       "      <td>$3.05</td>\n",
       "      <td>780</td>\n",
       "      <td>$2,379.77</td>\n",
       "    </tr>\n",
       "  </tbody>\n",
       "</table>\n",
       "</div>"
      ],
      "text/plain": [
       "   Number of Unique Items Average Price  Number of Purchases Total Revenue\n",
       "0                     179         $3.05                  780     $2,379.77"
      ]
     },
     "execution_count": 59,
     "metadata": {},
     "output_type": "execute_result"
    }
   ],
   "source": [
    "# Calculate unique items, average price, purchase count, and revenue\n",
    "number_of_items = purchase_data_df[\"Item ID\"].nunique()\n",
    "average_price = purchase_data_df[\"Price\"].mean()\n",
    "number_of_purchases = purchase_data_df[\"Purchase ID\"].count()\n",
    "total_revenue = purchase_data_df[\"Price\"].sum()\n",
    "\n",
    "#Print to check if the values are correct \n",
    "# print(number_of__items)\n",
    "# print(average_price)\n",
    "# print(number_of_purchases)\n",
    "# print(total_revenue)\n",
    "\n",
    "# Create a DafaFrame with values above\n",
    "PA_total_summary_df = pd.DataFrame({\"Number of Unique Items\":[number_of_items],\n",
    "                           \"Average Price\":[average_price], \n",
    "                            \"Number of Purchases\": [number_of_purchases], \n",
    "                            \"Total Revenue\": [total_revenue]})\n",
    "\n",
    "# Format the values with dollar sign and two decimal places\n",
    "PA_total_summary_df[\"Average Price\"] = PA_total_summary_df[\"Average Price\"].map(\"${:.2f}\".format) \n",
    "PA_total_summary_df[\"Total Revenue\"] = PA_total_summary_df[\"Total Revenue\"].map(\"${:,.2f}\".format) \n",
    "\n",
    "PA_total_summary_df\n"
   ]
  },
  {
   "cell_type": "markdown",
   "metadata": {},
   "source": [
    "## Gender Demographics"
   ]
  },
  {
   "cell_type": "code",
   "execution_count": 60,
   "metadata": {},
   "outputs": [
    {
     "data": {
      "text/html": [
       "<div>\n",
       "<style scoped>\n",
       "    .dataframe tbody tr th:only-of-type {\n",
       "        vertical-align: middle;\n",
       "    }\n",
       "\n",
       "    .dataframe tbody tr th {\n",
       "        vertical-align: top;\n",
       "    }\n",
       "\n",
       "    .dataframe thead th {\n",
       "        text-align: right;\n",
       "    }\n",
       "</style>\n",
       "<table border=\"1\" class=\"dataframe\">\n",
       "  <thead>\n",
       "    <tr style=\"text-align: right;\">\n",
       "      <th></th>\n",
       "      <th>Total Count</th>\n",
       "      <th>Percentage of Players</th>\n",
       "    </tr>\n",
       "    <tr>\n",
       "      <th>Gender</th>\n",
       "      <th></th>\n",
       "      <th></th>\n",
       "    </tr>\n",
       "  </thead>\n",
       "  <tbody>\n",
       "    <tr>\n",
       "      <th>Male</th>\n",
       "      <td>484</td>\n",
       "      <td>84.03%</td>\n",
       "    </tr>\n",
       "    <tr>\n",
       "      <th>Female</th>\n",
       "      <td>81</td>\n",
       "      <td>14.06%</td>\n",
       "    </tr>\n",
       "    <tr>\n",
       "      <th>Other / Non-Disclosed</th>\n",
       "      <td>11</td>\n",
       "      <td>1.91%</td>\n",
       "    </tr>\n",
       "  </tbody>\n",
       "</table>\n",
       "</div>"
      ],
      "text/plain": [
       "                       Total Count Percentage of Players\n",
       "Gender                                                  \n",
       "Male                           484                84.03%\n",
       "Female                          81                14.06%\n",
       "Other / Non-Disclosed           11                 1.91%"
      ]
     },
     "execution_count": 60,
     "metadata": {},
     "output_type": "execute_result"
    }
   ],
   "source": [
    "# Group purchase_data by Gender\n",
    "gender_grouped = purchase_data_df.groupby(\"Gender\")\n",
    "\n",
    "# Count the number of each gender\n",
    "gender_count = gender_grouped[\"SN\"].nunique()\n",
    "\n",
    "# Calculate Percentage  \n",
    "gender_percentage = gender_count / player_count * 100\n",
    "\n",
    "# Create a DataFrame with the values above\n",
    "gender_demographics_df = pd.DataFrame({\"Total Count\": gender_count, \n",
    "                                    \"Percentage of Players\": gender_percentage})\n",
    "\n",
    "#Sort the data from high to low percentage and display upto two decimal places\n",
    "gender_demographics_df[\"Percentage of Players\"] = gender_demographics_df[\"Percentage of Players\"].map(\"{:.2f}%\".format) \n",
    "gender_demographics_df = gender_demographics_df.sort_values (by =['Percentage of Players'], ascending = False)\n",
    "gender_demographics_df\n",
    "\n"
   ]
  },
  {
   "cell_type": "markdown",
   "metadata": {},
   "source": [
    "## Purchasing Analysis (Gender)"
   ]
  },
  {
   "cell_type": "code",
   "execution_count": 61,
   "metadata": {
    "scrolled": true
   },
   "outputs": [
    {
     "data": {
      "text/html": [
       "<div>\n",
       "<style scoped>\n",
       "    .dataframe tbody tr th:only-of-type {\n",
       "        vertical-align: middle;\n",
       "    }\n",
       "\n",
       "    .dataframe tbody tr th {\n",
       "        vertical-align: top;\n",
       "    }\n",
       "\n",
       "    .dataframe thead th {\n",
       "        text-align: right;\n",
       "    }\n",
       "</style>\n",
       "<table border=\"1\" class=\"dataframe\">\n",
       "  <thead>\n",
       "    <tr style=\"text-align: right;\">\n",
       "      <th></th>\n",
       "      <th>Purchase Count</th>\n",
       "      <th>Average Purchase Price</th>\n",
       "      <th>Total Purchase Value</th>\n",
       "      <th>Avg Total Purchase per Person</th>\n",
       "    </tr>\n",
       "    <tr>\n",
       "      <th>Gender</th>\n",
       "      <th></th>\n",
       "      <th></th>\n",
       "      <th></th>\n",
       "      <th></th>\n",
       "    </tr>\n",
       "  </thead>\n",
       "  <tbody>\n",
       "    <tr>\n",
       "      <th>Female</th>\n",
       "      <td>113</td>\n",
       "      <td>$3.20</td>\n",
       "      <td>$361.94</td>\n",
       "      <td>$4.47</td>\n",
       "    </tr>\n",
       "    <tr>\n",
       "      <th>Male</th>\n",
       "      <td>652</td>\n",
       "      <td>$3.02</td>\n",
       "      <td>$1,967.64</td>\n",
       "      <td>$4.07</td>\n",
       "    </tr>\n",
       "    <tr>\n",
       "      <th>Other / Non-Disclosed</th>\n",
       "      <td>15</td>\n",
       "      <td>$3.35</td>\n",
       "      <td>$50.19</td>\n",
       "      <td>$4.56</td>\n",
       "    </tr>\n",
       "  </tbody>\n",
       "</table>\n",
       "</div>"
      ],
      "text/plain": [
       "                       Purchase Count Average Purchase Price  \\\n",
       "Gender                                                         \n",
       "Female                            113                  $3.20   \n",
       "Male                              652                  $3.02   \n",
       "Other / Non-Disclosed              15                  $3.35   \n",
       "\n",
       "                      Total Purchase Value Avg Total Purchase per Person  \n",
       "Gender                                                                    \n",
       "Female                             $361.94                         $4.47  \n",
       "Male                             $1,967.64                         $4.07  \n",
       "Other / Non-Disclosed               $50.19                         $4.56  "
      ]
     },
     "execution_count": 61,
     "metadata": {},
     "output_type": "execute_result"
    }
   ],
   "source": [
    "#Count the number of puchase \n",
    "gender_purchase_count = gender_grouped[\"Purchase ID\"].count()\n",
    "\n",
    "# Calculate the average puchase price and total purchase based on gender\n",
    "gender_avg_purchase = gender_grouped[\"Price\"].mean()\n",
    "gender_total_purchase = gender_grouped[\"Price\"].sum()\n",
    "\n",
    "# Calculate the average purchase per person based on gender \n",
    "avg_purchase_per_person = gender_total_purchase/gender_count\n",
    "\n",
    "# Create a DataFrame with the values above\n",
    "gender_analysis_df = pd.DataFrame({\"Purchase Count\": gender_purchase_count, \n",
    "                                    \"Average Purchase Price\": gender_avg_purchase,\n",
    "                                    \"Total Purchase Value\":gender_total_purchase,\n",
    "                                    \"Avg Total Purchase per Person\": avg_purchase_per_person})\n",
    "\n",
    "\n",
    "#Format the values with dollar sign and two decimal places \n",
    "gender_analysis_df[\"Average Purchase Price\"] = gender_analysis_df[\"Average Purchase Price\"].map(\"${:.2f}\".format) \n",
    "gender_analysis_df[\"Total Purchase Value\"] = gender_analysis_df[\"Total Purchase Value\"].map(\"${:,.2f}\".format)\n",
    "gender_analysis_df[\"Avg Total Purchase per Person\"] = gender_analysis_df[\"Avg Total Purchase per Person\"].map(\"${:.2f}\".format) \n",
    "gender_analysis_df\n",
    "\n"
   ]
  },
  {
   "cell_type": "markdown",
   "metadata": {},
   "source": [
    "# #Age Demographics"
   ]
  },
  {
   "cell_type": "code",
   "execution_count": 62,
   "metadata": {},
   "outputs": [
    {
     "name": "stdout",
     "output_type": "stream",
     "text": [
      "45\n"
     ]
    }
   ],
   "source": [
    "#Check the highest value in age for binning\n",
    "print(purchase_data_df[\"Age\"].max())"
   ]
  },
  {
   "cell_type": "code",
   "execution_count": 63,
   "metadata": {},
   "outputs": [
    {
     "data": {
      "text/html": [
       "<div>\n",
       "<style scoped>\n",
       "    .dataframe tbody tr th:only-of-type {\n",
       "        vertical-align: middle;\n",
       "    }\n",
       "\n",
       "    .dataframe tbody tr th {\n",
       "        vertical-align: top;\n",
       "    }\n",
       "\n",
       "    .dataframe thead th {\n",
       "        text-align: right;\n",
       "    }\n",
       "</style>\n",
       "<table border=\"1\" class=\"dataframe\">\n",
       "  <thead>\n",
       "    <tr style=\"text-align: right;\">\n",
       "      <th></th>\n",
       "      <th>Total Count</th>\n",
       "      <th>Percentage of Players</th>\n",
       "    </tr>\n",
       "    <tr>\n",
       "      <th>Age Ranges</th>\n",
       "      <th></th>\n",
       "      <th></th>\n",
       "    </tr>\n",
       "  </thead>\n",
       "  <tbody>\n",
       "    <tr>\n",
       "      <th>&lt;10</th>\n",
       "      <td>17</td>\n",
       "      <td>2.95%</td>\n",
       "    </tr>\n",
       "    <tr>\n",
       "      <th>10-14</th>\n",
       "      <td>22</td>\n",
       "      <td>3.82%</td>\n",
       "    </tr>\n",
       "    <tr>\n",
       "      <th>15-19</th>\n",
       "      <td>107</td>\n",
       "      <td>18.58%</td>\n",
       "    </tr>\n",
       "    <tr>\n",
       "      <th>20-24</th>\n",
       "      <td>258</td>\n",
       "      <td>44.79%</td>\n",
       "    </tr>\n",
       "    <tr>\n",
       "      <th>25-29</th>\n",
       "      <td>77</td>\n",
       "      <td>13.37%</td>\n",
       "    </tr>\n",
       "    <tr>\n",
       "      <th>30-34</th>\n",
       "      <td>52</td>\n",
       "      <td>9.03%</td>\n",
       "    </tr>\n",
       "    <tr>\n",
       "      <th>35-39</th>\n",
       "      <td>31</td>\n",
       "      <td>5.38%</td>\n",
       "    </tr>\n",
       "    <tr>\n",
       "      <th>40+</th>\n",
       "      <td>12</td>\n",
       "      <td>2.08%</td>\n",
       "    </tr>\n",
       "  </tbody>\n",
       "</table>\n",
       "</div>"
      ],
      "text/plain": [
       "            Total Count Percentage of Players\n",
       "Age Ranges                                   \n",
       "<10                  17                 2.95%\n",
       "10-14                22                 3.82%\n",
       "15-19               107                18.58%\n",
       "20-24               258                44.79%\n",
       "25-29                77                13.37%\n",
       "30-34                52                 9.03%\n",
       "35-39                31                 5.38%\n",
       "40+                  12                 2.08%"
      ]
     },
     "execution_count": 63,
     "metadata": {},
     "output_type": "execute_result"
    }
   ],
   "source": [
    "#Assign the age groups and create a bin \n",
    "\n",
    "bins = [0, 9, 14, 19, 24, 29, 34, 39, 50]\n",
    "age_group = [\"<10\", \"10-14\", \"15-19\", \"20-24\", \"25-29\", \"30-34\", \"35-39\", \"40+\"]\n",
    "\n",
    "# Sort the age values in the respective age_group\n",
    "purchase_data_df[\"Age Ranges\"] = pd.cut(purchase_data_df[\"Age\"],bins, labels=age_group, include_lowest=False)\n",
    "\n",
    "\n",
    "#Group based on age \n",
    "age_grouped = purchase_data_df.groupby(\"Age Ranges\")\n",
    "\n",
    "#Count total players based on age \n",
    "age_count = age_grouped[\"SN\"].nunique()\n",
    "\n",
    "\n",
    "# Calculate percentages based on age and tried formatting in one line \n",
    "age_percentage = round(age_count/player_count *100,2).map(\"{}%\".format)\n",
    "\n",
    "#Create a DataFrame with the values above \n",
    "age_demographics_df = pd.DataFrame ({\n",
    "    \"Total Count\":age_count,\n",
    "    \"Percentage of Players\":age_percentage\n",
    "    })\n",
    "age_demographics_df"
   ]
  },
  {
   "cell_type": "markdown",
   "metadata": {},
   "source": [
    "## Purchasing Analysis(Age)"
   ]
  },
  {
   "cell_type": "code",
   "execution_count": 64,
   "metadata": {},
   "outputs": [
    {
     "data": {
      "text/html": [
       "<div>\n",
       "<style scoped>\n",
       "    .dataframe tbody tr th:only-of-type {\n",
       "        vertical-align: middle;\n",
       "    }\n",
       "\n",
       "    .dataframe tbody tr th {\n",
       "        vertical-align: top;\n",
       "    }\n",
       "\n",
       "    .dataframe thead th {\n",
       "        text-align: right;\n",
       "    }\n",
       "</style>\n",
       "<table border=\"1\" class=\"dataframe\">\n",
       "  <thead>\n",
       "    <tr style=\"text-align: right;\">\n",
       "      <th></th>\n",
       "      <th>Purchase Count</th>\n",
       "      <th>Average Purchase Price</th>\n",
       "      <th>Total Purchase Value</th>\n",
       "      <th>Average Purchase Total per Person</th>\n",
       "    </tr>\n",
       "    <tr>\n",
       "      <th>Age Ranges</th>\n",
       "      <th></th>\n",
       "      <th></th>\n",
       "      <th></th>\n",
       "      <th></th>\n",
       "    </tr>\n",
       "  </thead>\n",
       "  <tbody>\n",
       "    <tr>\n",
       "      <th>&lt;10</th>\n",
       "      <td>23</td>\n",
       "      <td>$3.35</td>\n",
       "      <td>$77.13</td>\n",
       "      <td>$4.54</td>\n",
       "    </tr>\n",
       "    <tr>\n",
       "      <th>10-14</th>\n",
       "      <td>28</td>\n",
       "      <td>$2.96</td>\n",
       "      <td>$82.78</td>\n",
       "      <td>$3.76</td>\n",
       "    </tr>\n",
       "    <tr>\n",
       "      <th>15-19</th>\n",
       "      <td>136</td>\n",
       "      <td>$3.04</td>\n",
       "      <td>$412.89</td>\n",
       "      <td>$3.86</td>\n",
       "    </tr>\n",
       "    <tr>\n",
       "      <th>20-24</th>\n",
       "      <td>365</td>\n",
       "      <td>$3.05</td>\n",
       "      <td>$1,114.06</td>\n",
       "      <td>$4.32</td>\n",
       "    </tr>\n",
       "    <tr>\n",
       "      <th>25-29</th>\n",
       "      <td>101</td>\n",
       "      <td>$2.90</td>\n",
       "      <td>$293.00</td>\n",
       "      <td>$3.81</td>\n",
       "    </tr>\n",
       "    <tr>\n",
       "      <th>30-34</th>\n",
       "      <td>73</td>\n",
       "      <td>$2.93</td>\n",
       "      <td>$214.00</td>\n",
       "      <td>$4.12</td>\n",
       "    </tr>\n",
       "    <tr>\n",
       "      <th>35-39</th>\n",
       "      <td>41</td>\n",
       "      <td>$3.60</td>\n",
       "      <td>$147.67</td>\n",
       "      <td>$4.76</td>\n",
       "    </tr>\n",
       "    <tr>\n",
       "      <th>40+</th>\n",
       "      <td>13</td>\n",
       "      <td>$2.94</td>\n",
       "      <td>$38.24</td>\n",
       "      <td>$3.19</td>\n",
       "    </tr>\n",
       "  </tbody>\n",
       "</table>\n",
       "</div>"
      ],
      "text/plain": [
       "            Purchase Count Average Purchase Price Total Purchase Value  \\\n",
       "Age Ranges                                                               \n",
       "<10                     23                  $3.35               $77.13   \n",
       "10-14                   28                  $2.96               $82.78   \n",
       "15-19                  136                  $3.04              $412.89   \n",
       "20-24                  365                  $3.05            $1,114.06   \n",
       "25-29                  101                  $2.90              $293.00   \n",
       "30-34                   73                  $2.93              $214.00   \n",
       "35-39                   41                  $3.60              $147.67   \n",
       "40+                     13                  $2.94               $38.24   \n",
       "\n",
       "           Average Purchase Total per Person  \n",
       "Age Ranges                                    \n",
       "<10                                    $4.54  \n",
       "10-14                                  $3.76  \n",
       "15-19                                  $3.86  \n",
       "20-24                                  $4.32  \n",
       "25-29                                  $3.81  \n",
       "30-34                                  $4.12  \n",
       "35-39                                  $4.76  \n",
       "40+                                    $3.19  "
      ]
     },
     "execution_count": 64,
     "metadata": {},
     "output_type": "execute_result"
    }
   ],
   "source": [
    "# Count purchases by age \n",
    "age_purchase_count = age_grouped[\"Purchase ID\"].count()\n",
    "\n",
    "#Gain the average purchase price and calculate total purchase by age  \n",
    "age_average_purchase = age_grouped[\"Price\"].mean().map(\"${:.2f}\".format)\n",
    "age_total_purchase = age_grouped[\"Price\"].sum()\n",
    "\n",
    "# Calculate the average purchase per person in the age group \n",
    "avg_purchase_per_person_age = round(age_total_purchase/age_count,2).map(\"${}\".format)\n",
    "\n",
    "# Create a DataFrame with the values above \n",
    "PA_age_df = pd.DataFrame({\"Purchase Count\": age_purchase_count,\n",
    "                                 \"Average Purchase Price\": age_average_purchase,\n",
    "                                 \"Total Purchase Value\":age_total_purchase,\n",
    "                                 \"Average Purchase Total per Person\": avg_purchase_per_person_age})\n",
    "\n",
    "# Format the Total Purchase Values \n",
    "PA_age_df[\"Total Purchase Value\"] = PA_age_df[\"Total Purchase Value\"].map(\"${:,.2f}\".format) \n",
    "PA_age_df "
   ]
  },
  {
   "cell_type": "markdown",
   "metadata": {},
   "source": [
    "## Top Spenders"
   ]
  },
  {
   "cell_type": "code",
   "execution_count": 65,
   "metadata": {},
   "outputs": [
    {
     "data": {
      "text/html": [
       "<style  type=\"text/css\" >\n",
       "</style><table id=\"T_eaa159fb_5df9_11eb_8500_74d83e9463bb\" ><thead>    <tr>        <th class=\"blank level0\" ></th>        <th class=\"col_heading level0 col0\" >Purchase Count</th>        <th class=\"col_heading level0 col1\" >Average Purchase Price</th>        <th class=\"col_heading level0 col2\" >Total Purchase Value</th>    </tr>    <tr>        <th class=\"index_name level0\" >SN</th>        <th class=\"blank\" ></th>        <th class=\"blank\" ></th>        <th class=\"blank\" ></th>    </tr></thead><tbody>\n",
       "                <tr>\n",
       "                        <th id=\"T_eaa159fb_5df9_11eb_8500_74d83e9463bblevel0_row0\" class=\"row_heading level0 row0\" >Lisosia93</th>\n",
       "                        <td id=\"T_eaa159fb_5df9_11eb_8500_74d83e9463bbrow0_col0\" class=\"data row0 col0\" >5</td>\n",
       "                        <td id=\"T_eaa159fb_5df9_11eb_8500_74d83e9463bbrow0_col1\" class=\"data row0 col1\" >$3.79</td>\n",
       "                        <td id=\"T_eaa159fb_5df9_11eb_8500_74d83e9463bbrow0_col2\" class=\"data row0 col2\" >$18.96</td>\n",
       "            </tr>\n",
       "            <tr>\n",
       "                        <th id=\"T_eaa159fb_5df9_11eb_8500_74d83e9463bblevel0_row1\" class=\"row_heading level0 row1\" >Idastidru52</th>\n",
       "                        <td id=\"T_eaa159fb_5df9_11eb_8500_74d83e9463bbrow1_col0\" class=\"data row1 col0\" >4</td>\n",
       "                        <td id=\"T_eaa159fb_5df9_11eb_8500_74d83e9463bbrow1_col1\" class=\"data row1 col1\" >$3.86</td>\n",
       "                        <td id=\"T_eaa159fb_5df9_11eb_8500_74d83e9463bbrow1_col2\" class=\"data row1 col2\" >$15.45</td>\n",
       "            </tr>\n",
       "            <tr>\n",
       "                        <th id=\"T_eaa159fb_5df9_11eb_8500_74d83e9463bblevel0_row2\" class=\"row_heading level0 row2\" >Chamjask73</th>\n",
       "                        <td id=\"T_eaa159fb_5df9_11eb_8500_74d83e9463bbrow2_col0\" class=\"data row2 col0\" >3</td>\n",
       "                        <td id=\"T_eaa159fb_5df9_11eb_8500_74d83e9463bbrow2_col1\" class=\"data row2 col1\" >$4.61</td>\n",
       "                        <td id=\"T_eaa159fb_5df9_11eb_8500_74d83e9463bbrow2_col2\" class=\"data row2 col2\" >$13.83</td>\n",
       "            </tr>\n",
       "            <tr>\n",
       "                        <th id=\"T_eaa159fb_5df9_11eb_8500_74d83e9463bblevel0_row3\" class=\"row_heading level0 row3\" >Iral74</th>\n",
       "                        <td id=\"T_eaa159fb_5df9_11eb_8500_74d83e9463bbrow3_col0\" class=\"data row3 col0\" >4</td>\n",
       "                        <td id=\"T_eaa159fb_5df9_11eb_8500_74d83e9463bbrow3_col1\" class=\"data row3 col1\" >$3.40</td>\n",
       "                        <td id=\"T_eaa159fb_5df9_11eb_8500_74d83e9463bbrow3_col2\" class=\"data row3 col2\" >$13.62</td>\n",
       "            </tr>\n",
       "            <tr>\n",
       "                        <th id=\"T_eaa159fb_5df9_11eb_8500_74d83e9463bblevel0_row4\" class=\"row_heading level0 row4\" >Iskadarya95</th>\n",
       "                        <td id=\"T_eaa159fb_5df9_11eb_8500_74d83e9463bbrow4_col0\" class=\"data row4 col0\" >3</td>\n",
       "                        <td id=\"T_eaa159fb_5df9_11eb_8500_74d83e9463bbrow4_col1\" class=\"data row4 col1\" >$4.37</td>\n",
       "                        <td id=\"T_eaa159fb_5df9_11eb_8500_74d83e9463bbrow4_col2\" class=\"data row4 col2\" >$13.10</td>\n",
       "            </tr>\n",
       "    </tbody></table>"
      ],
      "text/plain": [
       "<pandas.io.formats.style.Styler at 0x16d4acf9dc0>"
      ]
     },
     "execution_count": 65,
     "metadata": {},
     "output_type": "execute_result"
    }
   ],
   "source": [
    "#Group the spenders first \n",
    "spender_lists = purchase_data_df.groupby(\"SN\")\n",
    "\n",
    "\n",
    "# Count the total purchases by name\n",
    "spender_purchase_count = spender_lists[\"Purchase ID\"].count()\n",
    "\n",
    "# Calculate the average purchase by name \n",
    "spender_avg_purchase = spender_lists[\"Price\"].mean()\n",
    "\n",
    "# Calculate purchase total \n",
    "spender_total_purchase = spender_lists[\"Price\"].sum()\n",
    "\n",
    "# Create data frame with obtained values\n",
    "top_spenders_df = pd.DataFrame({\"Purchase Count\": spender_purchase_count,\n",
    "                             \"Average Purchase Price\": spender_avg_purchase,\n",
    "                             \"Total Purchase Value\":spender_total_purchase})\n",
    "\n",
    "# Sort in descending order to obtain top 5 spender names \n",
    "top_five_spenders_df = top_spenders_df.sort_values([\"Total Purchase Value\"], ascending=False).head()\n",
    "\n",
    "# Format with a new style using style.format \n",
    "top_five_spenders_df.style.format({\"Average Purchase Price\": \"${:,.2f}\",\n",
    "                                   \"Total Purchase Value\": \"${:.2f}\"\n",
    "    })\n"
   ]
  },
  {
   "cell_type": "markdown",
   "metadata": {},
   "source": [
    "## Most Popular Items"
   ]
  },
  {
   "cell_type": "code",
   "execution_count": 77,
   "metadata": {
    "scrolled": true
   },
   "outputs": [
    {
     "data": {
      "text/html": [
       "<style  type=\"text/css\" >\n",
       "</style><table id=\"T_2492c722_5dfb_11eb_82ef_74d83e9463bb\" ><thead>    <tr>        <th class=\"blank\" ></th>        <th class=\"blank level0\" ></th>        <th class=\"col_heading level0 col0\" >Purchase Count</th>        <th class=\"col_heading level0 col1\" >Item Price</th>        <th class=\"col_heading level0 col2\" >Total Purchase Value</th>    </tr>    <tr>        <th class=\"index_name level0\" >Item ID</th>        <th class=\"index_name level1\" >Item Name</th>        <th class=\"blank\" ></th>        <th class=\"blank\" ></th>        <th class=\"blank\" ></th>    </tr></thead><tbody>\n",
       "                <tr>\n",
       "                        <th id=\"T_2492c722_5dfb_11eb_82ef_74d83e9463bblevel0_row0\" class=\"row_heading level0 row0\" >92</th>\n",
       "                        <th id=\"T_2492c722_5dfb_11eb_82ef_74d83e9463bblevel1_row0\" class=\"row_heading level1 row0\" >Final Critic</th>\n",
       "                        <td id=\"T_2492c722_5dfb_11eb_82ef_74d83e9463bbrow0_col0\" class=\"data row0 col0\" >13</td>\n",
       "                        <td id=\"T_2492c722_5dfb_11eb_82ef_74d83e9463bbrow0_col1\" class=\"data row0 col1\" >$4.61</td>\n",
       "                        <td id=\"T_2492c722_5dfb_11eb_82ef_74d83e9463bbrow0_col2\" class=\"data row0 col2\" >$59.99</td>\n",
       "            </tr>\n",
       "            <tr>\n",
       "                        <th id=\"T_2492c722_5dfb_11eb_82ef_74d83e9463bblevel0_row1\" class=\"row_heading level0 row1\" >178</th>\n",
       "                        <th id=\"T_2492c722_5dfb_11eb_82ef_74d83e9463bblevel1_row1\" class=\"row_heading level1 row1\" >Oathbreaker, Last Hope of the Breaking Storm</th>\n",
       "                        <td id=\"T_2492c722_5dfb_11eb_82ef_74d83e9463bbrow1_col0\" class=\"data row1 col0\" >12</td>\n",
       "                        <td id=\"T_2492c722_5dfb_11eb_82ef_74d83e9463bbrow1_col1\" class=\"data row1 col1\" >$4.23</td>\n",
       "                        <td id=\"T_2492c722_5dfb_11eb_82ef_74d83e9463bbrow1_col2\" class=\"data row1 col2\" >$50.76</td>\n",
       "            </tr>\n",
       "            <tr>\n",
       "                        <th id=\"T_2492c722_5dfb_11eb_82ef_74d83e9463bblevel0_row2\" class=\"row_heading level0 row2\" >145</th>\n",
       "                        <th id=\"T_2492c722_5dfb_11eb_82ef_74d83e9463bblevel1_row2\" class=\"row_heading level1 row2\" >Fiery Glass Crusader</th>\n",
       "                        <td id=\"T_2492c722_5dfb_11eb_82ef_74d83e9463bbrow2_col0\" class=\"data row2 col0\" >9</td>\n",
       "                        <td id=\"T_2492c722_5dfb_11eb_82ef_74d83e9463bbrow2_col1\" class=\"data row2 col1\" >$4.58</td>\n",
       "                        <td id=\"T_2492c722_5dfb_11eb_82ef_74d83e9463bbrow2_col2\" class=\"data row2 col2\" >$41.22</td>\n",
       "            </tr>\n",
       "            <tr>\n",
       "                        <th id=\"T_2492c722_5dfb_11eb_82ef_74d83e9463bblevel0_row3\" class=\"row_heading level0 row3\" >132</th>\n",
       "                        <th id=\"T_2492c722_5dfb_11eb_82ef_74d83e9463bblevel1_row3\" class=\"row_heading level1 row3\" >Persuasion</th>\n",
       "                        <td id=\"T_2492c722_5dfb_11eb_82ef_74d83e9463bbrow3_col0\" class=\"data row3 col0\" >9</td>\n",
       "                        <td id=\"T_2492c722_5dfb_11eb_82ef_74d83e9463bbrow3_col1\" class=\"data row3 col1\" >$3.22</td>\n",
       "                        <td id=\"T_2492c722_5dfb_11eb_82ef_74d83e9463bbrow3_col2\" class=\"data row3 col2\" >$28.99</td>\n",
       "            </tr>\n",
       "            <tr>\n",
       "                        <th id=\"T_2492c722_5dfb_11eb_82ef_74d83e9463bblevel0_row4\" class=\"row_heading level0 row4\" >108</th>\n",
       "                        <th id=\"T_2492c722_5dfb_11eb_82ef_74d83e9463bblevel1_row4\" class=\"row_heading level1 row4\" >Extraction, Quickblade Of Trembling Hands</th>\n",
       "                        <td id=\"T_2492c722_5dfb_11eb_82ef_74d83e9463bbrow4_col0\" class=\"data row4 col0\" >9</td>\n",
       "                        <td id=\"T_2492c722_5dfb_11eb_82ef_74d83e9463bbrow4_col1\" class=\"data row4 col1\" >$3.53</td>\n",
       "                        <td id=\"T_2492c722_5dfb_11eb_82ef_74d83e9463bbrow4_col2\" class=\"data row4 col2\" >$31.77</td>\n",
       "            </tr>\n",
       "    </tbody></table>"
      ],
      "text/plain": [
       "<pandas.io.formats.style.Styler at 0x16d4abb10d0>"
      ]
     },
     "execution_count": 77,
     "metadata": {},
     "output_type": "execute_result"
    }
   ],
   "source": [
    "items = purchase_data_df[[\"Item ID\", \"Item Name\", \"Price\"]]\n",
    "\n",
    "# Group the item data by item id and item name \n",
    "item_lists = items.groupby([\"Item ID\",\"Item Name\"])\n",
    "\n",
    "# Count the number of times an item has been purchased \n",
    "item_purchase_count = item_lists[\"Price\"].count()\n",
    "\n",
    "# Calcualte the purchase value per item \n",
    "item_total_value = (item_lists[\"Price\"].sum()) \n",
    "\n",
    "# Find individual item price\n",
    "item_price = item_total_value/item_purchase_count\n",
    "\n",
    "# Create data frame with obtained values\n",
    "popular_items_df = pd.DataFrame({\"Purchase Count\": item_purchase_count, \n",
    "                                   \"Item Price\": item_price,\n",
    "                                   \"Total Purchase Value\":item_total_value})\n",
    "\n",
    "# Display the top five items based on Purchase Count \n",
    "top_five_items_df = popular_items_df.sort_values([\"Purchase Count\"], ascending=False).head()\n",
    "\n",
    "# Apply the previous format to make it clean \n",
    "top_five_items_df.style.format({\"Item Price\":\"${:,.2f}\",\n",
    "                                \"Total Purchase Value\":\"${:,.2f}\"})"
   ]
  },
  {
   "cell_type": "code",
   "execution_count": 78,
   "metadata": {},
   "outputs": [
    {
     "data": {
      "text/html": [
       "<style  type=\"text/css\" >\n",
       "</style><table id=\"T_24ffb082_5dfb_11eb_94ff_74d83e9463bb\" ><thead>    <tr>        <th class=\"blank\" ></th>        <th class=\"blank level0\" ></th>        <th class=\"col_heading level0 col0\" >Purchase Count</th>        <th class=\"col_heading level0 col1\" >Item Price</th>        <th class=\"col_heading level0 col2\" >Total Purchase Value</th>    </tr>    <tr>        <th class=\"index_name level0\" >Item ID</th>        <th class=\"index_name level1\" >Item Name</th>        <th class=\"blank\" ></th>        <th class=\"blank\" ></th>        <th class=\"blank\" ></th>    </tr></thead><tbody>\n",
       "                <tr>\n",
       "                        <th id=\"T_24ffb082_5dfb_11eb_94ff_74d83e9463bblevel0_row0\" class=\"row_heading level0 row0\" >92</th>\n",
       "                        <th id=\"T_24ffb082_5dfb_11eb_94ff_74d83e9463bblevel1_row0\" class=\"row_heading level1 row0\" >Final Critic</th>\n",
       "                        <td id=\"T_24ffb082_5dfb_11eb_94ff_74d83e9463bbrow0_col0\" class=\"data row0 col0\" >13</td>\n",
       "                        <td id=\"T_24ffb082_5dfb_11eb_94ff_74d83e9463bbrow0_col1\" class=\"data row0 col1\" >$4.61</td>\n",
       "                        <td id=\"T_24ffb082_5dfb_11eb_94ff_74d83e9463bbrow0_col2\" class=\"data row0 col2\" >$59.99</td>\n",
       "            </tr>\n",
       "            <tr>\n",
       "                        <th id=\"T_24ffb082_5dfb_11eb_94ff_74d83e9463bblevel0_row1\" class=\"row_heading level0 row1\" >178</th>\n",
       "                        <th id=\"T_24ffb082_5dfb_11eb_94ff_74d83e9463bblevel1_row1\" class=\"row_heading level1 row1\" >Oathbreaker, Last Hope of the Breaking Storm</th>\n",
       "                        <td id=\"T_24ffb082_5dfb_11eb_94ff_74d83e9463bbrow1_col0\" class=\"data row1 col0\" >12</td>\n",
       "                        <td id=\"T_24ffb082_5dfb_11eb_94ff_74d83e9463bbrow1_col1\" class=\"data row1 col1\" >$4.23</td>\n",
       "                        <td id=\"T_24ffb082_5dfb_11eb_94ff_74d83e9463bbrow1_col2\" class=\"data row1 col2\" >$50.76</td>\n",
       "            </tr>\n",
       "            <tr>\n",
       "                        <th id=\"T_24ffb082_5dfb_11eb_94ff_74d83e9463bblevel0_row2\" class=\"row_heading level0 row2\" >82</th>\n",
       "                        <th id=\"T_24ffb082_5dfb_11eb_94ff_74d83e9463bblevel1_row2\" class=\"row_heading level1 row2\" >Nirvana</th>\n",
       "                        <td id=\"T_24ffb082_5dfb_11eb_94ff_74d83e9463bbrow2_col0\" class=\"data row2 col0\" >9</td>\n",
       "                        <td id=\"T_24ffb082_5dfb_11eb_94ff_74d83e9463bbrow2_col1\" class=\"data row2 col1\" >$4.90</td>\n",
       "                        <td id=\"T_24ffb082_5dfb_11eb_94ff_74d83e9463bbrow2_col2\" class=\"data row2 col2\" >$44.10</td>\n",
       "            </tr>\n",
       "            <tr>\n",
       "                        <th id=\"T_24ffb082_5dfb_11eb_94ff_74d83e9463bblevel0_row3\" class=\"row_heading level0 row3\" >145</th>\n",
       "                        <th id=\"T_24ffb082_5dfb_11eb_94ff_74d83e9463bblevel1_row3\" class=\"row_heading level1 row3\" >Fiery Glass Crusader</th>\n",
       "                        <td id=\"T_24ffb082_5dfb_11eb_94ff_74d83e9463bbrow3_col0\" class=\"data row3 col0\" >9</td>\n",
       "                        <td id=\"T_24ffb082_5dfb_11eb_94ff_74d83e9463bbrow3_col1\" class=\"data row3 col1\" >$4.58</td>\n",
       "                        <td id=\"T_24ffb082_5dfb_11eb_94ff_74d83e9463bbrow3_col2\" class=\"data row3 col2\" >$41.22</td>\n",
       "            </tr>\n",
       "            <tr>\n",
       "                        <th id=\"T_24ffb082_5dfb_11eb_94ff_74d83e9463bblevel0_row4\" class=\"row_heading level0 row4\" >103</th>\n",
       "                        <th id=\"T_24ffb082_5dfb_11eb_94ff_74d83e9463bblevel1_row4\" class=\"row_heading level1 row4\" >Singed Scalpel</th>\n",
       "                        <td id=\"T_24ffb082_5dfb_11eb_94ff_74d83e9463bbrow4_col0\" class=\"data row4 col0\" >8</td>\n",
       "                        <td id=\"T_24ffb082_5dfb_11eb_94ff_74d83e9463bbrow4_col1\" class=\"data row4 col1\" >$4.35</td>\n",
       "                        <td id=\"T_24ffb082_5dfb_11eb_94ff_74d83e9463bbrow4_col2\" class=\"data row4 col2\" >$34.80</td>\n",
       "            </tr>\n",
       "    </tbody></table>"
      ],
      "text/plain": [
       "<pandas.io.formats.style.Styler at 0x16d4a39ed60>"
      ]
     },
     "execution_count": 78,
     "metadata": {},
     "output_type": "execute_result"
    }
   ],
   "source": [
    "# Display the top five items based on Total Purchase Value \n",
    "most_profitable_df = popular_items_df.sort_values([\"Total Purchase Value\"],ascending=False).head()\n",
    "# Apply the previous format to make it clean \n",
    "most_profitable_df.style.format({\"Item Price\":\"${:.2f}\",\n",
    "                                \"Total Purchase Value\":\"${:.2f}\"})"
   ]
  },
  {
   "cell_type": "markdown",
   "metadata": {},
   "source": [
    "## Additional Analysis for the Report"
   ]
  },
  {
   "cell_type": "code",
   "execution_count": 74,
   "metadata": {
    "scrolled": false
   },
   "outputs": [
    {
     "data": {
      "text/html": [
       "<div>\n",
       "<style scoped>\n",
       "    .dataframe tbody tr th:only-of-type {\n",
       "        vertical-align: middle;\n",
       "    }\n",
       "\n",
       "    .dataframe tbody tr th {\n",
       "        vertical-align: top;\n",
       "    }\n",
       "\n",
       "    .dataframe thead th {\n",
       "        text-align: right;\n",
       "    }\n",
       "</style>\n",
       "<table border=\"1\" class=\"dataframe\">\n",
       "  <thead>\n",
       "    <tr style=\"text-align: right;\">\n",
       "      <th></th>\n",
       "      <th>Age</th>\n",
       "      <th>Gender</th>\n",
       "    </tr>\n",
       "    <tr>\n",
       "      <th>SN</th>\n",
       "      <th></th>\n",
       "      <th></th>\n",
       "    </tr>\n",
       "  </thead>\n",
       "  <tbody>\n",
       "    <tr>\n",
       "      <th>Lisosia93</th>\n",
       "      <td>25</td>\n",
       "      <td>Male</td>\n",
       "    </tr>\n",
       "    <tr>\n",
       "      <th>Idastidru52</th>\n",
       "      <td>24</td>\n",
       "      <td>Male</td>\n",
       "    </tr>\n",
       "    <tr>\n",
       "      <th>Chamjask73</th>\n",
       "      <td>22</td>\n",
       "      <td>Female</td>\n",
       "    </tr>\n",
       "    <tr>\n",
       "      <th>Iral74</th>\n",
       "      <td>21</td>\n",
       "      <td>Male</td>\n",
       "    </tr>\n",
       "    <tr>\n",
       "      <th>Iskadarya95</th>\n",
       "      <td>20</td>\n",
       "      <td>Male</td>\n",
       "    </tr>\n",
       "  </tbody>\n",
       "</table>\n",
       "</div>"
      ],
      "text/plain": [
       "             Age  Gender\n",
       "SN                      \n",
       "Lisosia93     25    Male\n",
       "Idastidru52   24    Male\n",
       "Chamjask73    22  Female\n",
       "Iral74        21    Male\n",
       "Iskadarya95   20    Male"
      ]
     },
     "execution_count": 74,
     "metadata": {},
     "output_type": "execute_result"
    }
   ],
   "source": [
    "#additional data for the report: personal information (age,gender) of top spenders \n",
    "personal_info_df = purchase_data_df.set_index(\"SN\")\n",
    "top_five_personal_info = personal_info_df.loc[[\"Lisosia93\", \"Idastidru52\",\"Chamjask73\",\"Iral74\",\"Iskadarya95\"], [\"Age\", \"Gender\"]].drop_duplicates()\n",
    "top_five_personal_info"
   ]
  },
  {
   "cell_type": "markdown",
   "metadata": {},
   "source": [
    "## Heroes of Pymoli Data Report"
   ]
  },
  {
   "cell_type": "markdown",
   "metadata": {},
   "source": [
    "In the Heroes of Pymoli data, it contains the information about the game users' purchasing histories. Based on the purchase data, there are three important factors to consider: Gender, Age, and Items. \n",
    "\n",
    "Gender is one of the most distinguishable factors in this data: Over 80 percent of customers are male while female consumers are only about 14%. I would be able to interpret these numbers in two potential scenarios. The majority consumers in this game are male because this game is a male-dominated game, or the male players tend to invest more on the game than the female players do. To figure out this, it will be certainly helpful to know the total number of players including for those who have not purchased any items. Based on the total number of users, the relationship between gender and the consumer's purchasing behavior can be observed. One more aspect I would like to emphasize is that the amount that every female user has spent on items is slightly higher than the amount that each male has spent. It may indicate that despite of low number of female players, they make an important contribution in the purchasing trends. \n",
    "\n",
    "Even though it is played across all age groups, over 70 percent of consumers falls in the 15-to-24-year-old category. Among them, players between 20 and 24 years old have purchased the items more than any other age groups. The majority of spenders in this game are adolescents who may still depend on their parents or just start making money. Compared to those who are financially independent, it needs to be extra careful when selling the items to the younger age group. Additionally, I also looked at the top five spenders' demographics including age and gender. Not surprisingly, the top five spenders belong to the ages ranged from 20 to 25 and 4 out 5 players are male.  \n",
    "\n",
    "The tables regarding to items show which items have sold most and which items have had most values. According to the tables, the items called ‘Final Critic’, ‘Oathbreaker’, and ‘Fiery Glass Crusader’ are ranked in the top five list. These items will tell you what types of items the biggest cash cow can be in this market. \n",
    "\n",
    "As a simple insight, you may target on adolescent male player for the sake of short-term profits. However, if you pursue expanding the market to wider age group and more female users, it will be also worth taking account of those relevant data.  "
   ]
  }
 ],
 "metadata": {
  "kernelspec": {
   "display_name": "Python 3",
   "language": "python",
   "name": "python3"
  },
  "language_info": {
   "codemirror_mode": {
    "name": "ipython",
    "version": 3
   },
   "file_extension": ".py",
   "mimetype": "text/x-python",
   "name": "python",
   "nbconvert_exporter": "python",
   "pygments_lexer": "ipython3",
   "version": "3.8.5"
  }
 },
 "nbformat": 4,
 "nbformat_minor": 4
}
